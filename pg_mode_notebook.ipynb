{
 "cells": [
  {
   "cell_type": "markdown",
   "metadata": {},
   "source": [
    "# A Notebook for pressure-gravity mode instability plots"
   ]
  },
  {
   "cell_type": "markdown",
   "metadata": {},
   "source": [
    "## Imports"
   ]
  },
  {
   "cell_type": "code",
   "execution_count": 1,
   "metadata": {},
   "outputs": [],
   "source": [
    "from matplotlib import rc, rcParams\n",
    "import matplotlib.pyplot as plt\n",
    "import numpy\n",
    "from pycbc import conversions\n",
    "from pycbc import cosmology\n",
    "from pycbc.distributions import uniform, uniform_log\n",
    "from IPython.display import Image"
   ]
  },
  {
   "cell_type": "markdown",
   "metadata": {},
   "source": [
    "## Generating Fig 1. p-g mode prior plots"
   ]
  },
  {
   "cell_type": "code",
   "execution_count": 2,
   "metadata": {},
   "outputs": [
    {
     "name": "stderr",
     "output_type": "stream",
     "text": [
      "/home/steven.reyes/pycbc-nl-tides-fixed/lib/python2.7/site-packages/matplotlib/axes/_axes.py:6462: UserWarning: The 'normed' kwarg is deprecated, and has been replaced by the 'density' kwarg.\n",
      "  warnings.warn(\"The 'normed' kwarg is deprecated, and has been \"\n"
     ]
    },
    {
     "data": {
      "image/png": "[encoded data removed]",
      "text/plain": [
       "<Figure size 648x432 with 4 Axes>"
      ]
     },
     "metadata": {},
     "output_type": "display_data"
    }
   ],
   "source": [
    "numpy.random.seed(seed=1234)\n",
    "# Number of samples to generate for prior plot\n",
    "num_samples_init = 1000000\n",
    "\n",
    "### Draw masses from uniform prior\n",
    "mass1_uni_pdf = uniform.Uniform(samples=(1.0,2.0))\n",
    "mass2_uni_pdf = uniform.Uniform(samples=(1.0,2.0))\n",
    "\n",
    "# Source frame masses\n",
    "mass1_uni_samples = mass1_uni_pdf.rvs(num_samples_init)[\"samples\"]\n",
    "mass2_uni_samples = mass2_uni_pdf.rvs(num_samples_init)[\"samples\"]\n",
    "\n",
    "# Only keep samples where mass1 > mass2\n",
    "keep_idx = mass1_uni_samples > mass2_uni_samples\n",
    "mass1_uni_samples = mass1_uni_samples[keep_idx]\n",
    "mass2_uni_samples = mass2_uni_samples[keep_idx]\n",
    "\n",
    "# Convert to chirp mass and apply chirp mass cuts\n",
    "chirp_mass_uni = conversions.mchirp_from_mass1_mass2(mass1_uni_samples,\n",
    "                                                     mass2_uni_samples)\n",
    "\n",
    "# Chirp mass cuts\n",
    "keep_idx = chirp_mass_uni > 1.1876\n",
    "chirp_mass_uni = chirp_mass_uni[keep_idx]\n",
    "mass1_uni_samples = mass1_uni_samples[keep_idx]\n",
    "mass2_uni_samples = mass2_uni_samples[keep_idx]\n",
    "\n",
    "keep_idx = chirp_mass_uni < 1.2076\n",
    "chirp_mass_uni = chirp_mass_uni[keep_idx]\n",
    "mass1_uni_samples = mass1_uni_samples[keep_idx]\n",
    "mass2_uni_samples = mass2_uni_samples[keep_idx]\n",
    "\n",
    "num_samples_final = len(chirp_mass_uni)\n",
    "\n",
    "### Make f0 p-g mode parameter space set\n",
    "f0_small_pdf = uniform.Uniform(samples=(15., 100.))\n",
    "f0_small_samples = f0_small_pdf.rvs(num_samples_final)[\"samples\"]\n",
    "\n",
    "f0_big_pdf = uniform.Uniform(samples=(15., 800.))\n",
    "f0_big_samples = f0_big_pdf.rvs(num_samples_final)[\"samples\"]\n",
    "\n",
    "### Make the rest of the p-g-mode priors\n",
    "n_pdf = uniform.Uniform(samples=(-1.1, 2.999))\n",
    "n_samples = n_pdf.rvs(num_samples_final)[\"samples\"]\n",
    "\n",
    "A_pdf = uniform_log.UniformLog10(samples=(10**-10,10**-6))\n",
    "A_samples = A_pdf.rvs(num_samples_final)[\"samples\"]\n",
    "\n",
    "# Calculate dphi arrays\n",
    "flow = 20.0\n",
    "\n",
    "dphi_uniform_small = conversions.nltides_gw_phase_diff_isco(flow,\n",
    "                                                    f0_small_samples,\n",
    "                                                    A_samples,\n",
    "                                                    n_samples,\n",
    "                                                    mass1_uni_samples,\n",
    "                                                    mass2_uni_samples)\n",
    "\n",
    "dphi_uniform_large = conversions.nltides_gw_phase_diff_isco(flow,\n",
    "                                                    f0_big_samples,\n",
    "                                                    A_samples,\n",
    "                                                    n_samples,\n",
    "                                                    mass1_uni_samples,\n",
    "                                                    mass2_uni_samples)\n",
    "keep_idx1 = dphi_uniform_small > 0.1\n",
    "keep_idx2 = dphi_uniform_large > 0.1\n",
    "\n",
    "num_bins = 85\n",
    "fig, axarr = plt.subplots(2, 2)\n",
    "bin_edges = numpy.linspace(15.0, 800.0, num_bins + 1, endpoint=True)\n",
    "axarr[0][0].hist(f0_small_samples[keep_idx1], bins=bin_edges,\n",
    "                 histtype=\"step\", normed=True,\n",
    "                 label=\"Prior for $f_0$ $\\in$ (15, 100) $\\mathrm{Hz}$\")\n",
    "axarr[0][0].hist(f0_big_samples[keep_idx2], bins=bin_edges,\n",
    "                 histtype=\"step\", normed=True,\n",
    "                 label=\"Prior for $f_0$ $\\in$ (15, 800) $\\mathrm{Hz}$\",\n",
    "                 linestyle=\"--\")\n",
    "axarr[0][0].set_xlabel(\"$f_0 (Hz)$\")\n",
    "axarr[0][0].set_ylabel(\"$p(f_0 | H_i)$\")\n",
    "\n",
    "num_bins = 40\n",
    "bin_edges = numpy.linspace(-1.1, 3.0, num_bins + 1, endpoint=True)\n",
    "axarr[0][1].hist(n_samples[keep_idx1], bins=bin_edges,\n",
    "                 histtype=\"step\", normed=True,)\n",
    "axarr[0][1].hist(n_samples[keep_idx2], bins=bin_edges,\n",
    "                 histtype=\"step\", normed=True,\n",
    "                 linestyle=\"--\")\n",
    "axarr[0][1].set_xlabel(\"$n$\")\n",
    "axarr[0][1].set_ylabel(\"$p(n | H_i)$\")\n",
    "\n",
    "bin_edges = numpy.logspace(-10.0, -6.0, num_bins + 1, endpoint=True)\n",
    "axarr[1][0].hist(A_samples[keep_idx1], bins=bin_edges,\n",
    "                 histtype=\"step\", normed=True,\n",
    "                 weights=A_samples[keep_idx1]*numpy.log(10))\n",
    "axarr[1][0].hist(A_samples[keep_idx2], bins=bin_edges,\n",
    "                 histtype=\"step\", normed=True,\n",
    "                 weights=A_samples[keep_idx2]*numpy.log(10),\n",
    "                 linestyle=\"--\")\n",
    "axarr[1][0].set_xlabel(\"$A$\")\n",
    "axarr[1][0].set_ylabel(\"$p(A | H_i)$\")\n",
    "axarr[1][0].set_xscale(\"log\")\n",
    "\n",
    "bin_edges = numpy.logspace(-1.0, 4.05, num_bins + 1, endpoint=True)\n",
    "axarr[1][1].hist(dphi_uniform_small[keep_idx1], bins=bin_edges,\n",
    "                 histtype=\"step\", normed=True,\n",
    "                 weights=dphi_uniform_small[keep_idx1]*numpy.log(10))\n",
    "\n",
    "axarr[1][1].hist(dphi_uniform_large[keep_idx2], bins=bin_edges,\n",
    "                 histtype=\"step\", normed=True,\n",
    "                 weights=dphi_uniform_large[keep_idx2]*numpy.log(10),\n",
    "                 linestyle=\"--\")\n",
    "axarr[1][1].set_xlabel(\"$\\delta \\phi$ $\\mathrm{(radians)}$\")\n",
    "axarr[1][1].set_ylabel(\"$p(\\delta \\phi | H_i)$\")\n",
    "axarr[1][1].set_xscale(\"log\")\n",
    "\n",
    "axarr[0][0].grid(color=\"k\", which=\"major\", axis=\"both\", alpha=0.2)\n",
    "axarr[0][0].yaxis.set_ticklabels([])\n",
    "axarr[0][1].grid(color=\"k\", which=\"major\", axis=\"both\", alpha=0.2)\n",
    "axarr[0][1].yaxis.set_ticklabels([])\n",
    "axarr[1][0].grid(color=\"k\", which=\"major\", axis=\"both\", alpha=0.2)\n",
    "axarr[1][0].yaxis.set_ticklabels([])\n",
    "axarr[1][1].grid(color=\"k\", which=\"major\", axis=\"both\", alpha=0.2)\n",
    "axarr[1][1].yaxis.set_ticklabels([])\n",
    "\n",
    "length_column = 6\n",
    "fig.set_size_inches(1.5*length_column, length_column)\n",
    "\n",
    "plt.show()"
   ]
  },
  {
   "cell_type": "markdown",
   "metadata": {},
   "source": [
    "## Bayes Factor Calculations\n",
    "We provide a small verification calculation for thinned posterior results to verify\n",
    "the Bayes Factor calculations in the text. For the sake of not mounting multiple files we\n",
    "simply provide the evidence from De et al's DNS Gaussian mass distribution run and Uniform mass distribution run\n",
    "with the common equation of state constraints on each neutron star."
   ]
  },
  {
   "cell_type": "code",
   "execution_count": 3,
   "metadata": {},
   "outputs": [
    {
     "name": "stdout",
     "output_type": "stream",
     "text": [
      "Gaussian mass distribution, small f0 range\n",
      "log10 Bayes factor=-6.371896\n",
      "\n",
      "Gaussian mass distribution, large f0 range\n",
      "log10 Bayes factor=-4.757193\n",
      "\n",
      "Uniform mass distribution, small f0 range\n",
      "log10 Bayes factor=-9.211644\n",
      "\n",
      "Uniform mass distribution, large f0 range\n",
      "log10 Bayes factor=-6.075410\n",
      "\n"
     ]
    }
   ],
   "source": [
    "from pycbc.io.inference_hdf import InferenceFile\n",
    "from pycbc.inference import option_utils\n",
    "import emcee\n",
    "import numpy\n",
    "\n",
    "# Thinned chains from\n",
    "# \"Constraints on non-linear tides due to p-g mode coupling from the neutron star merger GW170817\"\n",
    "# by Steven Reyes and Duncan A. Brown\n",
    "\n",
    "fp1 = InferenceFile('gaussian_small_f0_range.hdf','r')\n",
    "fp2 = InferenceFile('gaussian_large_f0_range.hdf','r')\n",
    "fp3 = InferenceFile('uniform_small_f0_range.hdf','r')\n",
    "fp4 = InferenceFile('uniform_large_f0_range.hdf','r')\n",
    "\n",
    "def calc_evidence(fp, start_iter=None, end_iter=None, interval_iter=None):\n",
    "\n",
    "    stats_group=fp.stats_group\n",
    "    parameters = fp[stats_group].keys()\n",
    "    logstats = fp.read_samples(parameters, samples_group=stats_group, thin_start=start_iter,\n",
    "                               thin_end=end_iter, thin_interval=interval_iter, temps='all', flatten=False)\n",
    "    logls = logstats['loglr'] + fp.lognl\n",
    "    betas = numpy.array(fp.attrs['betas'])\n",
    "    ntemps = fp.ntemps\n",
    "    nwalkers = fp.nwalkers\n",
    "    ndim = len(fp.variable_args)\n",
    "    dummy_sampler = emcee.PTSampler(ntemps, nwalkers, ndim, None, None, betas=betas)\n",
    "    lnz, dlnz = dummy_sampler.thermodynamic_integration_log_evidence(logls=logls, fburnin=0.0)\n",
    "    return lnz, dlnz\n",
    "\n",
    "\n",
    "# Because the posterior hdf files were thinned beforehand we start our integration at iteration 0\n",
    "# and run in intervals of 1, to the end of the file.\n",
    "lnz1, dlnz1  = calc_evidence(fp1, start_iter=0, end_iter=-1, interval_iter=1)\n",
    "lnz2, dlnz2 = calc_evidence(fp2, start_iter=0, end_iter=-1, interval_iter=1)\n",
    "lnz3, dlnz3 = calc_evidence(fp3, start_iter=0, end_iter=-1, interval_iter=1)\n",
    "lnz4, dlnz4 = calc_evidence(fp4, start_iter=0, end_iter=-1, interval_iter=1)\n",
    "\n",
    "# Calculated from full runs and sampled at same thin_interval\n",
    "De_et_al_gaussian_evidence_ln_z = -1348453.30987\n",
    "De_et_al_uniform_evidence_ln_z = -1348453.08037\n",
    "\n",
    "\n",
    "print(\"Gaussian mass distribution, small f0 range\")\n",
    "bayes_factor=numpy.exp(lnz1 - De_et_al_gaussian_evidence_ln_z)\n",
    "print(\"log10 Bayes factor=%f\\n\"%numpy.log10(bayes_factor))\n",
    "\n",
    "print(\"Gaussian mass distribution, large f0 range\")\n",
    "bayes_factor = numpy.exp(lnz2 - De_et_al_gaussian_evidence_ln_z)\n",
    "print(\"log10 Bayes factor=%f\\n\"%numpy.log10(bayes_factor))\n",
    "\n",
    "print(\"Uniform mass distribution, small f0 range\")\n",
    "bayes_factor=numpy.exp(lnz3 - De_et_al_uniform_evidence_ln_z)\n",
    "print(\"log10 Bayes factor=%f\\n\"%numpy.log10(bayes_factor))\n",
    "\n",
    "print(\"Uniform mass distribution, large f0 range\")\n",
    "bayes_factor = numpy.exp(lnz4 - De_et_al_uniform_evidence_ln_z)\n",
    "print(\"log10 Bayes factor=%f\\n\"%numpy.log10(bayes_factor))\n",
    "fp1.close()\n",
    "fp2.close()\n",
    "fp3.close()\n",
    "fp4.close()"
   ]
  },
  {
   "cell_type": "markdown",
   "metadata": {},
   "source": [
    "## Posterior Plots (Figures 2 and 3 and more)\n",
    "\n",
    "We provide plotting scripts to plot the posteriors from the thinned posterior files.\n",
    "They provide posteriors near the iterations presented in the paper, although other iterations of the\n",
    "files can be chosen to be plotted."
   ]
  },
  {
   "cell_type": "markdown",
   "metadata": {},
   "source": [
    "#### Posterior for Gaussian Mass Distribution for $f_0$ between 15 and 100 Hz"
   ]
  },
  {
   "cell_type": "code",
   "execution_count": null,
   "metadata": {},
   "outputs": [
    {
     "name": "stdout",
     "output_type": "stream",
     "text": [
      "2018-08-21 18:46:21,613 Loading parameters\n",
      "2018-08-21 18:46:21,613 Reading input file gaussian_small_f0_range.hdf\n",
      "2018-08-21 18:46:21,619 Loading samples\n",
      "2018-08-21 18:46:21,664 Getting likelihood stats\n",
      "2018-08-21 18:46:21,697 Plotting\n",
      "/home/steven.reyes/pycbc-nl-tides-fixed/lib/python2.7/site-packages/matplotlib/axes/_axes.py:6462: UserWarning: The 'normed' kwarg is deprecated, and has been replaced by the 'density' kwarg.\n",
      "  warnings.warn(\"The 'normed' kwarg is deprecated, and has been \"\n"
     ]
    }
   ],
   "source": [
    "\n",
    "!pycbc_inference_plot_posterior --plot-scatter \\\n",
    "--plot-contour \\\n",
    "--z-arg loglr \\\n",
    "--verbose \\\n",
    "--iteration -1 \\\n",
    "--input-file 'gaussian_small_f0_range.hdf' \\\n",
    "--output-file \"gaussian_f0_15_100_Hz_posterior.png\" \\\n",
    "--plot-marginal \\\n",
    "--parameters 'mchirp/(1+redshift(40.7)):$\\mathcal{M}^{src}_{c}$' 'return_base10_log(amplitude):$log_{10}$ A' n 'f0:$f_0$' 'return_base10_log(nltides_gw_phase_diff_isco(20.0, f0, amplitude, n, mass1/(1+redshift(40.7)), mass2/(1+redshift(40.7)))):$log_{10}$ $\\delta \\phi$' \\\n",
    "--scale 'mchirp/(1+redshift(40.7)):linear' 'return_base10_log(amplitude):linear' 'f0:linear' 'n:linear' 'return_base10_log(nltides_gw_phase_diff_isco(20.0, f0, amplitude, n, mass1/(1+redshift(40.7)), mass2/(1+redshift(40.7)))):linear'\n"
   ]
  },
  {
   "cell_type": "code",
   "execution_count": null,
   "metadata": {},
   "outputs": [],
   "source": [
    "Image('gaussian_f0_15_100_Hz_posterior.png')"
   ]
  },
  {
   "cell_type": "markdown",
   "metadata": {},
   "source": [
    "#### Posterior for Uniform Mass Distribution for $f_0$ between 15 and 100 Hz"
   ]
  },
  {
   "cell_type": "code",
   "execution_count": null,
   "metadata": {},
   "outputs": [],
   "source": [
    "\n",
    "!pycbc_inference_plot_posterior --plot-scatter \\\n",
    "--plot-contour \\\n",
    "--z-arg loglr \\\n",
    "--verbose \\\n",
    "--iteration -1 \\\n",
    "--input-file 'uniform_small_f0_range.hdf' \\\n",
    "--output-file \"uniform_f0_15_100_Hz_posterior.png\" \\\n",
    "--plot-marginal \\\n",
    "--parameters 'mchirp/(1+redshift(40.7)):$\\mathcal{M}^{src}_{c}$' 'return_base10_log(amplitude):$log_{10}$ A' n 'f0:$f_0$' 'return_base10_log(nltides_gw_phase_diff_isco(20.0, f0, amplitude, n, mass1/(1+redshift(40.7)), mass2/(1+redshift(40.7)))):$log_{10}$ $\\delta \\phi$' \\\n",
    "--scale 'mchirp/(1+redshift(40.7)):linear' 'return_base10_log(amplitude):linear' 'f0:linear' 'n:linear' 'return_base10_log(nltides_gw_phase_diff_isco(20.0, f0, amplitude, n, mass1/(1+redshift(40.7)), mass2/(1+redshift(40.7)))):linear'\n"
   ]
  },
  {
   "cell_type": "code",
   "execution_count": null,
   "metadata": {},
   "outputs": [],
   "source": [
    "Image('uniform_f0_15_100_Hz_posterior.png')"
   ]
  },
  {
   "cell_type": "markdown",
   "metadata": {},
   "source": [
    "#### Posterior for Gaussian Mass Distribution for $f_0$ between 15 and 800 Hz"
   ]
  },
  {
   "cell_type": "code",
   "execution_count": null,
   "metadata": {},
   "outputs": [],
   "source": [
    "\n",
    "!pycbc_inference_plot_posterior --plot-scatter \\\n",
    "--plot-contour \\\n",
    "--z-arg loglr \\\n",
    "--verbose \\\n",
    "--iteration -1 \\\n",
    "--input-file 'gaussian_large_f0_range.hdf' \\\n",
    "--output-file \"gaussian_f0_15_800_Hz_posterior.png\" \\\n",
    "--plot-marginal \\\n",
    "--parameters 'mchirp/(1+redshift(40.7)):$\\mathcal{M}^{src}_{c}$' 'return_base10_log(amplitude):$log_{10}$ A' n 'f0:$f_0$' 'return_base10_log(nltides_gw_phase_diff_isco(20.0, f0, amplitude, n, mass1/(1+redshift(40.7)), mass2/(1+redshift(40.7)))):$log_{10}$ $\\delta \\phi$' \\\n",
    "--scale 'mchirp/(1+redshift(40.7)):linear' 'return_base10_log(amplitude):linear' 'f0:linear' 'n:linear' 'return_base10_log(nltides_gw_phase_diff_isco(20.0, f0, amplitude, n, mass1/(1+redshift(40.7)), mass2/(1+redshift(40.7)))):linear'\n"
   ]
  },
  {
   "cell_type": "code",
   "execution_count": null,
   "metadata": {},
   "outputs": [],
   "source": [
    "Image('gaussian_f0_15_800_Hz_posterior.png')"
   ]
  },
  {
   "cell_type": "markdown",
   "metadata": {},
   "source": [
    "#### Posterior for Uniform Mass Distribution for $f_0$ between 15 and 800 Hz"
   ]
  },
  {
   "cell_type": "code",
   "execution_count": null,
   "metadata": {},
   "outputs": [],
   "source": [
    "\n",
    "!pycbc_inference_plot_posterior --plot-scatter \\\n",
    "--plot-contour \\\n",
    "--z-arg loglr \\\n",
    "--verbose \\\n",
    "--iteration -1 \\\n",
    "--input-file 'uniform_large_f0_range.hdf' \\\n",
    "--output-file \"uniform_f0_15_800_Hz_posterior.png\" \\\n",
    "--plot-marginal \\\n",
    "--parameters 'mchirp/(1+redshift(40.7)):$\\mathcal{M}^{src}_{c}$' 'return_base10_log(amplitude):$log_{10}$ A' n 'f0:$f_0$' 'return_base10_log(nltides_gw_phase_diff_isco(20.0, f0, amplitude, n, mass1/(1+redshift(40.7)), mass2/(1+redshift(40.7)))):$log_{10}$ $\\delta \\phi$' \\\n",
    "--scale 'mchirp/(1+redshift(40.7)):linear' 'return_base10_log(amplitude):linear' 'f0:linear' 'n:linear' 'return_base10_log(nltides_gw_phase_diff_isco(20.0, f0, amplitude, n, mass1/(1+redshift(40.7)), mass2/(1+redshift(40.7)))):linear'\n"
   ]
  },
  {
   "cell_type": "code",
   "execution_count": null,
   "metadata": {},
   "outputs": [],
   "source": [
    "Image('uniform_f0_15_800_Hz_posterior.png')"
   ]
  }
 ],
 "metadata": {
  "kernelspec": {
   "display_name": "Python 2",
   "language": "python",
   "name": "python2"
  },
  "language_info": {
   "codemirror_mode": {
    "name": "ipython",
    "version": 2
   },
   "file_extension": ".py",
   "mimetype": "text/x-python",
   "name": "python",
   "nbconvert_exporter": "python",
   "pygments_lexer": "ipython2",
   "version": "2.7.5"
  }
 },
 "nbformat": 4,
 "nbformat_minor": 2
}
